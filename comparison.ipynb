{
 "cells": [
  {
   "cell_type": "code",
   "execution_count": 1,
   "id": "adc4b34b-4168-4a32-bac5-04055ff3baa6",
   "metadata": {},
   "outputs": [
    {
     "ename": "ModuleNotFoundError",
     "evalue": "No module named 'algorithms.egt_gwo'",
     "output_type": "error",
     "traceback": [
      "\u001b[1;31m---------------------------------------------------------------------------\u001b[0m",
      "\u001b[1;31mModuleNotFoundError\u001b[0m                       Traceback (most recent call last)",
      "Cell \u001b[1;32mIn[1], line 6\u001b[0m\n\u001b[0;32m      4\u001b[0m \u001b[38;5;28;01mimport\u001b[39;00m\u001b[38;5;250m \u001b[39m\u001b[38;5;21;01mmatplotlib\u001b[39;00m\u001b[38;5;21;01m.\u001b[39;00m\u001b[38;5;21;01mpyplot\u001b[39;00m\u001b[38;5;250m \u001b[39m\u001b[38;5;28;01mas\u001b[39;00m\u001b[38;5;250m \u001b[39m\u001b[38;5;21;01mplt\u001b[39;00m\n\u001b[0;32m      5\u001b[0m \u001b[38;5;28;01mimport\u001b[39;00m\u001b[38;5;250m \u001b[39m\u001b[38;5;21;01mseaborn\u001b[39;00m\u001b[38;5;250m \u001b[39m\u001b[38;5;28;01mas\u001b[39;00m\u001b[38;5;250m \u001b[39m\u001b[38;5;21;01msns\u001b[39;00m\n\u001b[1;32m----> 6\u001b[0m \u001b[38;5;28;01mfrom\u001b[39;00m\u001b[38;5;250m \u001b[39m\u001b[38;5;21;01malgorithms\u001b[39;00m\u001b[38;5;21;01m.\u001b[39;00m\u001b[38;5;21;01megt_gwo\u001b[39;00m\u001b[38;5;250m \u001b[39m\u001b[38;5;28;01mimport\u001b[39;00m EGT_GWO\n\u001b[0;32m      8\u001b[0m \u001b[38;5;66;03m# Initialize EGT-GWO\u001b[39;00m\n\u001b[0;32m      9\u001b[0m egt_gwo \u001b[38;5;241m=\u001b[39m EGT_GWO(\n\u001b[0;32m     10\u001b[0m     num_mds\u001b[38;5;241m=\u001b[39m\u001b[38;5;241m50\u001b[39m, num_ess\u001b[38;5;241m=\u001b[39m\u001b[38;5;241m10\u001b[39m, min_task_size\u001b[38;5;241m=\u001b[39m\u001b[38;5;241m100\u001b[39m, max_task_size\u001b[38;5;241m=\u001b[39m\u001b[38;5;241m1000\u001b[39m,\n\u001b[0;32m     11\u001b[0m     min_speed\u001b[38;5;241m=\u001b[39m\u001b[38;5;241m1.0\u001b[39m, max_speed\u001b[38;5;241m=\u001b[39m\u001b[38;5;241m2.5\u001b[39m, min_capacity\u001b[38;5;241m=\u001b[39m\u001b[38;5;241m10\u001b[39m, max_capacity\u001b[38;5;241m=\u001b[39m\u001b[38;5;241m50\u001b[39m,\n\u001b[0;32m     12\u001b[0m     omega1\u001b[38;5;241m=\u001b[39m\u001b[38;5;241m0.2\u001b[39m, omega2\u001b[38;5;241m=\u001b[39m\u001b[38;5;241m0.6\u001b[39m, p_k\u001b[38;5;241m=\u001b[39m\u001b[38;5;241m10.0\u001b[39m, max_iter\u001b[38;5;241m=\u001b[39m\u001b[38;5;241m20\u001b[39m\n\u001b[0;32m     13\u001b[0m )\n",
      "\u001b[1;31mModuleNotFoundError\u001b[0m: No module named 'algorithms.egt_gwo'"
     ]
    }
   ],
   "source": [
    "import numpy as np\n",
    "import pandas as pd\n",
    "import matplotlib.pyplot as plt\n",
    "import seaborn as sns\n",
    "from algorithms.egt_gwo import EGT_GWO\n",
    "\n",
    "# Initialize EGT-GWO\n",
    "egt_gwo = EGT_GWO(\n",
    "    num_mds=50, num_ess=10, min_task_size=100, max_task_size=1000,\n",
    "    min_speed=1.0, max_speed=2.5, min_capacity=10, max_capacity=50,\n",
    "    omega1=0.2, omega2=0.6, p_k=10.0, max_iter=20\n",
    ")\n",
    "\n",
    "# Generate synthetic data\n",
    "task_sizes, md_speeds, es_capacities = egt_gwo.generate_synthetic_data()\n",
    "\n",
    "# Run EGT-GWO\n",
    "optimized_allocations, final_assignments, fitness_values, task_assignments_history, utilization_history = egt_gwo.egt_gwo(task_sizes, md_speeds, es_capacities)\n",
    "\n",
    "# Visualization\n",
    "plt.plot(fitness_values)\n",
    "plt.xlabel('Iterations')\n",
    "plt.ylabel('Fitness Value')\n",
    "plt.title('Convergence of Fitness Over Iterations')\n",
    "plt.grid(True)\n",
    "plt.show()\n",
    "\n",
    "plt.imshow(task_assignments_history, cmap='Blues', aspect='auto', interpolation='nearest')\n",
    "plt.xlabel('Edge Server/Local Device')\n",
    "plt.ylabel('Iterations')\n",
    "plt.title('Task Assignments Distribution Over Iterations')\n",
    "plt.colorbar(label='Number of Tasks Assigned')\n",
    "plt.show()\n",
    "\n",
    "plt.imshow(utilization_history, cmap='viridis', aspect='auto', interpolation='nearest')\n",
    "plt.xlabel('Edge Server')\n",
    "plt.ylabel('Iterations')\n",
    "plt.title('Edge Server Utilization Over Iterations')\n",
    "plt.colorbar(label='Utilization')\n",
    "plt.show()\n",
    "\n",
    "local_tasks = np.sum(final_assignments >= egt_gwo.NUM_ESS)\n",
    "offloaded_tasks = egt_gwo.NUM_MDS - local_tasks\n",
    "plt.pie([local_tasks, offloaded_tasks], labels=['Local', 'Offloaded'], autopct='%1.1f%%', startangle=90)\n",
    "plt.title('Task Execution vs Offloading')\n",
    "plt.show()"
   ]
  },
  {
   "cell_type": "code",
   "execution_count": null,
   "id": "c2d5ed8d-39a2-4335-aaab-3dc8513d3371",
   "metadata": {},
   "outputs": [],
   "source": []
  }
 ],
 "metadata": {
  "kernelspec": {
   "display_name": "Python 3 (ipykernel)",
   "language": "python",
   "name": "python3"
  },
  "language_info": {
   "codemirror_mode": {
    "name": "ipython",
    "version": 3
   },
   "file_extension": ".py",
   "mimetype": "text/x-python",
   "name": "python",
   "nbconvert_exporter": "python",
   "pygments_lexer": "ipython3",
   "version": "3.10.16"
  },
  "widgets": {
   "application/vnd.jupyter.widget-state+json": {
    "state": {},
    "version_major": 2,
    "version_minor": 0
   }
  }
 },
 "nbformat": 4,
 "nbformat_minor": 5
}
