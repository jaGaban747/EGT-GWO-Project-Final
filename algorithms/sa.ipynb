{
 "cells": [
  {
   "cell_type": "code",
   "execution_count": 1,
   "id": "a64c6af7-adba-4b59-b221-6d27c04b41ec",
   "metadata": {},
   "outputs": [],
   "source": [
    "import numpy as np\n",
    "\n",
    "class SA:\n",
    "    def __init__(self, initial_temp, cooling_rate, bounds, max_iter):\n",
    "        self.initial_temp = initial_temp\n",
    "        self.cooling_rate = cooling_rate\n",
    "        self.bounds = bounds\n",
    "        self.max_iter = max_iter\n",
    "\n",
    "    def optimize(self, fitness_func):\n",
    "        current_solution = np.random.uniform(self.bounds[0], self.bounds[1])\n",
    "        current_fitness = fitness_func(current_solution)\n",
    "        best_solution = current_solution\n",
    "        best_fitness = current_fitness\n",
    "        temp = self.initial_temp\n",
    "\n",
    "        for _ in range(self.max_iter):\n",
    "            new_solution = current_solution + np.random.uniform(-1, 1, len(current_solution))\n",
    "            new_solution = np.clip(new_solution, self.bounds[0], self.bounds[1])\n",
    "            new_fitness = fitness_func(new_solution)\n",
    "            if new_fitness < current_fitness or np.random.rand() < np.exp((current_fitness - new_fitness) / temp):\n",
    "                current_solution = new_solution\n",
    "                current_fitness = new_fitness\n",
    "                if new_fitness < best_fitness:\n",
    "                    best_solution = new_solution\n",
    "                    best_fitness = new_fitness\n",
    "            temp *= self.cooling_rate\n",
    "        return best_solution, best_fitness"
   ]
  },
  {
   "cell_type": "code",
   "execution_count": null,
   "id": "0d33880f-e5a1-44e8-b46d-5bb15168f521",
   "metadata": {},
   "outputs": [],
   "source": []
  }
 ],
 "metadata": {
  "kernelspec": {
   "display_name": "Python 3 (ipykernel)",
   "language": "python",
   "name": "python3"
  },
  "language_info": {
   "codemirror_mode": {
    "name": "ipython",
    "version": 3
   },
   "file_extension": ".py",
   "mimetype": "text/x-python",
   "name": "python",
   "nbconvert_exporter": "python",
   "pygments_lexer": "ipython3",
   "version": "3.10.16"
  },
  "widgets": {
   "application/vnd.jupyter.widget-state+json": {
    "state": {},
    "version_major": 2,
    "version_minor": 0
   }
  }
 },
 "nbformat": 4,
 "nbformat_minor": 5
}
