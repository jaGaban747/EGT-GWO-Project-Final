{
 "cells": [
  {
   "cell_type": "code",
   "execution_count": 1,
   "id": "4010a3fd-17f7-4ab8-b397-ac163c64f3b8",
   "metadata": {},
   "outputs": [],
   "source": [
    "import numpy as np\n",
    "\n",
    "class GA:\n",
    "    def __init__(self, population_size, num_dimensions, bounds, max_iter, mutation_rate=0.1):\n",
    "        self.population_size = population_size\n",
    "        self.num_dimensions = num_dimensions\n",
    "        self.bounds = bounds\n",
    "        self.max_iter = max_iter\n",
    "        self.mutation_rate = mutation_rate\n",
    "\n",
    "    def optimize(self, fitness_func):\n",
    "        population = np.random.uniform(self.bounds[0], self.bounds[1], (self.population_size, self.num_dimensions))\n",
    "        for _ in range(self.max_iter):\n",
    "            fitness = np.array([fitness_func(ind) for ind in population])\n",
    "            parents = population[np.argsort(fitness)[:self.population_size // 2]]\n",
    "            offspring = np.array([self._crossover(parents[np.random.choice(len(parents))], parents[np.random.choice(len(parents))]) for _ in range(self.population_size)])\n",
    "            population = np.array([self._mutate(ind) for ind in offspring])\n",
    "        return population[np.argmin(fitness)], np.min(fitness)\n",
    "\n",
    "    def _crossover(self, parent1, parent2):\n",
    "        return (parent1 + parent2) / 2\n",
    "\n",
    "    def _mutate(self, individual):\n",
    "        return individual + self.mutation_rate * np.random.uniform(-1, 1, self.num_dimensions)"
   ]
  },
  {
   "cell_type": "code",
   "execution_count": null,
   "id": "ab4586aa-4ba7-4f9b-b8ce-78e70519e586",
   "metadata": {},
   "outputs": [],
   "source": []
  }
 ],
 "metadata": {
  "kernelspec": {
   "display_name": "Python 3 (ipykernel)",
   "language": "python",
   "name": "python3"
  },
  "language_info": {
   "codemirror_mode": {
    "name": "ipython",
    "version": 3
   },
   "file_extension": ".py",
   "mimetype": "text/x-python",
   "name": "python",
   "nbconvert_exporter": "python",
   "pygments_lexer": "ipython3",
   "version": "3.10.16"
  },
  "widgets": {
   "application/vnd.jupyter.widget-state+json": {
    "state": {},
    "version_major": 2,
    "version_minor": 0
   }
  }
 },
 "nbformat": 4,
 "nbformat_minor": 5
}
