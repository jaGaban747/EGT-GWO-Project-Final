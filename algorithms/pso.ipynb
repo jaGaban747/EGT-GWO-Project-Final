{
 "cells": [
  {
   "cell_type": "code",
   "execution_count": 1,
   "id": "a63bc54e-5b5d-494a-8264-cc760fac6cca",
   "metadata": {},
   "outputs": [],
   "source": [
    "import numpy as np\n",
    "\n",
    "class PSO:\n",
    "    def __init__(self, num_particles, num_dimensions, bounds, max_iter):\n",
    "        self.num_particles = num_particles\n",
    "        self.num_dimensions = num_dimensions\n",
    "        self.bounds = bounds\n",
    "        self.max_iter = max_iter\n",
    "\n",
    "    def optimize(self, fitness_func):\n",
    "        particles = np.random.uniform(self.bounds[0], self.bounds[1], (self.num_particles, self.num_dimensions))\n",
    "        velocities = np.zeros((self.num_particles, self.num_dimensions))\n",
    "        personal_best_positions = particles.copy()\n",
    "        personal_best_scores = np.array([fitness_func(p) for p in particles])\n",
    "        global_best_position = personal_best_positions[np.argmin(personal_best_scores)]\n",
    "        global_best_score = np.min(personal_best_scores)\n",
    "\n",
    "        for _ in range(self.max_iter):\n",
    "            for i in range(self.num_particles):\n",
    "                r1, r2 = np.random.rand(2)\n",
    "                velocities[i] = 0.5 * velocities[i] + 2 * r1 * (personal_best_positions[i] - particles[i]) + 2 * r2 * (global_best_position - particles[i])\n",
    "                particles[i] += velocities[i]\n",
    "                particles[i] = np.clip(particles[i], self.bounds[0], self.bounds[1])\n",
    "                fitness = fitness_func(particles[i])\n",
    "                if fitness < personal_best_scores[i]:\n",
    "                    personal_best_scores[i] = fitness\n",
    "                    personal_best_positions[i] = particles[i]\n",
    "                    if fitness < global_best_score:\n",
    "                        global_best_score = fitness\n",
    "                        global_best_position = particles[i]\n",
    "        return global_best_position, global_best_score"
   ]
  },
  {
   "cell_type": "code",
   "execution_count": null,
   "id": "7e7efb80-ef67-48b9-b768-4c802c99859e",
   "metadata": {},
   "outputs": [],
   "source": []
  }
 ],
 "metadata": {
  "kernelspec": {
   "display_name": "Python 3 (ipykernel)",
   "language": "python",
   "name": "python3"
  },
  "language_info": {
   "codemirror_mode": {
    "name": "ipython",
    "version": 3
   },
   "file_extension": ".py",
   "mimetype": "text/x-python",
   "name": "python",
   "nbconvert_exporter": "python",
   "pygments_lexer": "ipython3",
   "version": "3.10.16"
  },
  "widgets": {
   "application/vnd.jupyter.widget-state+json": {
    "state": {},
    "version_major": 2,
    "version_minor": 0
   }
  }
 },
 "nbformat": 4,
 "nbformat_minor": 5
}
