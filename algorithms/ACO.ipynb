{
 "cells": [
  {
   "cell_type": "code",
   "execution_count": 1,
   "id": "240d7995-5b09-43f9-b295-721972ce394f",
   "metadata": {},
   "outputs": [],
   "source": [
    "import numpy as np\n",
    "\n",
    "class ACO:\n",
    "    def __init__(self, num_ants, num_dimensions, bounds, max_iter, evaporation_rate=0.5):\n",
    "        self.num_ants = num_ants\n",
    "        self.num_dimensions = num_dimensions\n",
    "        self.bounds = bounds\n",
    "        self.max_iter = max_iter\n",
    "        self.evaporation_rate = evaporation_rate\n",
    "\n",
    "    def optimize(self, fitness_func):\n",
    "        pheromones = np.ones((self.num_ants, self.num_dimensions))\n",
    "        best_solution = None\n",
    "        best_fitness = np.inf\n",
    "\n",
    "        for _ in range(self.max_iter):\n",
    "            solutions = np.random.uniform(self.bounds[0], self.bounds[1], (self.num_ants, self.num_dimensions))\n",
    "            fitness = np.array([fitness_func(sol) for sol in solutions])\n",
    "            if np.min(fitness) < best_fitness:\n",
    "                best_fitness = np.min(fitness)\n",
    "                best_solution = solutions[np.argmin(fitness)]\n",
    "            pheromones = (1 - self.evaporation_rate) * pheromones + np.outer(fitness, np.ones(self.num_dimensions))\n",
    "        return best_solution, best_fitness"
   ]
  },
  {
   "cell_type": "code",
   "execution_count": null,
   "id": "c17b7a6e-1420-4906-99eb-a4b32066201f",
   "metadata": {},
   "outputs": [],
   "source": []
  }
 ],
 "metadata": {
  "kernelspec": {
   "display_name": "Python 3 (ipykernel)",
   "language": "python",
   "name": "python3"
  },
  "language_info": {
   "codemirror_mode": {
    "name": "ipython",
    "version": 3
   },
   "file_extension": ".py",
   "mimetype": "text/x-python",
   "name": "python",
   "nbconvert_exporter": "python",
   "pygments_lexer": "ipython3",
   "version": "3.10.16"
  },
  "widgets": {
   "application/vnd.jupyter.widget-state+json": {
    "state": {},
    "version_major": 2,
    "version_minor": 0
   }
  }
 },
 "nbformat": 4,
 "nbformat_minor": 5
}
