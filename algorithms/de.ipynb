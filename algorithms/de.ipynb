{
 "cells": [
  {
   "cell_type": "code",
   "execution_count": 1,
   "id": "005c28de-50ea-48a6-a1b1-9cd3a95e90a4",
   "metadata": {},
   "outputs": [],
   "source": [
    "import numpy as np\n",
    "\n",
    "class DE:\n",
    "    def __init__(self, population_size, num_dimensions, bounds, max_iter, crossover_rate=0.8, scaling_factor=0.5):\n",
    "        self.population_size = population_size\n",
    "        self.num_dimensions = num_dimensions\n",
    "        self.bounds = bounds\n",
    "        self.max_iter = max_iter\n",
    "        self.crossover_rate = crossover_rate\n",
    "        self.scaling_factor = scaling_factor\n",
    "\n",
    "    def optimize(self, fitness_func):\n",
    "        population = np.random.uniform(self.bounds[0], self.bounds[1], (self.population_size, self.num_dimensions))\n",
    "        fitness = np.array([fitness_func(ind) for ind in population])\n",
    "        best_index = np.argmin(fitness)\n",
    "        best_solution = population[best_index]\n",
    "        best_fitness = fitness[best_index]\n",
    "\n",
    "        for _ in range(self.max_iter):\n",
    "            for i in range(self.population_size):\n",
    "                a, b, c = population[np.random.choice(self.population_size, 3, replace=False)]\n",
    "                mutant = a + self.scaling_factor * (b - c)\n",
    "                crossover_mask = np.random.rand(self.num_dimensions) < self.crossover_rate\n",
    "                trial = np.where(crossover_mask, mutant, population[i])\n",
    "                trial_fitness = fitness_func(trial)\n",
    "                if trial_fitness < fitness[i]:\n",
    "                    population[i] = trial\n",
    "                    fitness[i] = trial_fitness\n",
    "                    if trial_fitness < best_fitness:\n",
    "                        best_solution = trial\n",
    "                        best_fitness = trial_fitness\n",
    "        return best_solution, best_fitness"
   ]
  },
  {
   "cell_type": "code",
   "execution_count": null,
   "id": "726a8b2d-eee8-4dc5-9895-cb839fc8b3ad",
   "metadata": {},
   "outputs": [],
   "source": []
  }
 ],
 "metadata": {
  "kernelspec": {
   "display_name": "Python 3 (ipykernel)",
   "language": "python",
   "name": "python3"
  },
  "language_info": {
   "codemirror_mode": {
    "name": "ipython",
    "version": 3
   },
   "file_extension": ".py",
   "mimetype": "text/x-python",
   "name": "python",
   "nbconvert_exporter": "python",
   "pygments_lexer": "ipython3",
   "version": "3.10.16"
  },
  "widgets": {
   "application/vnd.jupyter.widget-state+json": {
    "state": {},
    "version_major": 2,
    "version_minor": 0
   }
  }
 },
 "nbformat": 4,
 "nbformat_minor": 5
}
