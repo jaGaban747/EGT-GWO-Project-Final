{
 "cells": [
  {
   "cell_type": "code",
   "execution_count": 1,
   "id": "77133de3-e670-45d9-8f61-5d1747b10e1e",
   "metadata": {},
   "outputs": [],
   "source": [
    "import numpy as np\n",
    "\n",
    "class GradientDescent:\n",
    "    def __init__(self, learning_rate=0.01, max_iter=1000, tol=1e-6):\n",
    "        self.learning_rate = learning_rate  # Step size for each iteration\n",
    "        self.max_iter = max_iter  # Maximum number of iterations\n",
    "        self.tol = tol  # Tolerance for convergence\n",
    "\n",
    "    def optimize(self, objective_func, gradient_func, initial_params):\n",
    "        \"\"\"\n",
    "        Optimize using Gradient Descent.\n",
    "        \n",
    "        :param objective_func: The function to minimize.\n",
    "        :param gradient_func: The gradient of the objective function.\n",
    "        :param initial_params: Initial parameters (starting point).\n",
    "        :return: Optimized parameters and final objective value.\n",
    "        \"\"\"\n",
    "        params = np.array(initial_params, dtype=float)\n",
    "        history = []  # To store the objective value at each iteration\n",
    "\n",
    "        for i in range(self.max_iter):\n",
    "            gradient = gradient_func(params)  # Compute the gradient\n",
    "            params -= self.learning_rate * gradient  # Update parameters\n",
    "            objective_value = objective_func(params)  # Compute the objective value\n",
    "            history.append(objective_value)\n",
    "\n",
    "            # Check for convergence\n",
    "            if i > 0 and abs(history[-1] - history[-2]) < self.tol:\n",
    "                break\n",
    "\n",
    "        return params, objective_value, history"
   ]
  },
  {
   "cell_type": "code",
   "execution_count": null,
   "id": "61e89adc-bf34-4c8a-a102-4402a50a63cb",
   "metadata": {},
   "outputs": [],
   "source": []
  }
 ],
 "metadata": {
  "kernelspec": {
   "display_name": "Python 3 (ipykernel)",
   "language": "python",
   "name": "python3"
  },
  "language_info": {
   "codemirror_mode": {
    "name": "ipython",
    "version": 3
   },
   "file_extension": ".py",
   "mimetype": "text/x-python",
   "name": "python",
   "nbconvert_exporter": "python",
   "pygments_lexer": "ipython3",
   "version": "3.10.16"
  },
  "widgets": {
   "application/vnd.jupyter.widget-state+json": {
    "state": {},
    "version_major": 2,
    "version_minor": 0
   }
  }
 },
 "nbformat": 4,
 "nbformat_minor": 5
}
